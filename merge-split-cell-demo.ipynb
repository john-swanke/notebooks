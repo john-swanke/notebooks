{
  "cells": [
    {
      "cell_type": "markdown",
      "source": [
        "# Merge Cell Demo"
      ],
      "metadata": {
        "nteract": {
          "transient": {
            "deleting": false
          }
        }
      }
    },
    {
      "cell_type": "code",
      "source": [
        "------------------------\r\n",
        "Cell 1\r\n",
        "------------------------\r\n",
        "\r\n",
        "Line1\r\n",
        "Line2\r\n",
        "Line3\r\n",
        "\r\n",
        "------------------------\r\n",
        "Cell 1\r\n",
        "------------------------"
      ],
      "outputs": [],
      "execution_count": null,
      "metadata": {
        "collapsed": true,
        "jupyter": {
          "source_hidden": false,
          "outputs_hidden": false
        },
        "nteract": {
          "transient": {
            "deleting": false
          }
        },
        "ms_comments": [
          {
            "threadId": "df11057a-f3e9-4f9e-8b19-c00dbd89a77e",
            "text": "comment A",
            "status": "active",
            "user": {
              "name": "John Swanke"
            },
            "createdDateUTC": 1626962834213,
            "modifiedDateUTC": 1626962834213,
            "replies": []
          },
          {
            "threadId": "bec39baa-7449-46fc-bdf0-f8120dc381bb",
            "text": "comment B",
            "status": "active",
            "user": {
              "name": "John Swanke"
            },
            "createdDateUTC": 1626962844001,
            "modifiedDateUTC": 1626962844001,
            "replies": []
          }
        ],
        "ms_comment_ranges": {
          "df11057a-f3e9-4f9e-8b19-c00dbd89a77e": {
            "text": "Line1\nLine2",
            "start": {
              "line": 5,
              "column": 1
            },
            "end": {
              "line": 6,
              "column": 6
            }
          },
          "bec39baa-7449-46fc-bdf0-f8120dc381bb": {
            "text": "Line3",
            "start": {
              "line": 7,
              "column": 1
            },
            "end": {
              "line": 7,
              "column": 6
            }
          }
        }
      }
    },
    {
      "cell_type": "code",
      "source": [
        "------------------------\r\n",
        "Cell 2\r\n",
        "------------------------\r\n",
        "\r\n",
        "Line4\r\n",
        "Line5\r\n",
        "Line6\r\n",
        "\r\n",
        "------------------------\r\n",
        "Cell 2\r\n",
        "------------------------"
      ],
      "outputs": [],
      "execution_count": null,
      "metadata": {
        "collapsed": true,
        "jupyter": {
          "source_hidden": false,
          "outputs_hidden": false
        },
        "nteract": {
          "transient": {
            "deleting": false
          }
        },
        "ms_comments": [
          {
            "threadId": "a3e4b3c2-2620-491f-a5f5-9561103b6b8f",
            "text": "comment C",
            "status": "active",
            "user": {
              "name": "John Swanke"
            },
            "createdDateUTC": 1626962854390,
            "modifiedDateUTC": 1626962854390,
            "replies": []
          }
        ],
        "ms_comment_ranges": {
          "a3e4b3c2-2620-491f-a5f5-9561103b6b8f": {
            "text": "Line4\nLi",
            "start": {
              "line": 5,
              "column": 1
            },
            "end": {
              "line": 6,
              "column": 3
            }
          }
        }
      }
    },
    {
      "cell_type": "code",
      "source": [
        "------------------------\r\n",
        "Cell 3\r\n",
        "------------------------\r\n",
        "\r\n",
        "Line7\r\n",
        "Line8\r\n",
        "Line9\r\n",
        "\r\n",
        "------------------------\r\n",
        "Cell 3\r\n",
        "------------------------"
      ],
      "outputs": [],
      "execution_count": null,
      "metadata": {
        "collapsed": true,
        "jupyter": {
          "source_hidden": false,
          "outputs_hidden": false
        },
        "nteract": {
          "transient": {
            "deleting": false
          }
        },
        "ms_comments": [
          {
            "threadId": "8bad0457-3cdc-46e4-a9ca-59ae19406a74",
            "text": "comment D",
            "status": "active",
            "user": {
              "name": "John Swanke"
            },
            "createdDateUTC": 1626962891787,
            "modifiedDateUTC": 1626962891787,
            "replies": []
          },
          {
            "threadId": "1834b555-809a-4952-ac93-47c08ccc4b52",
            "text": "comment E",
            "status": "active",
            "user": {
              "name": "John Swanke"
            },
            "createdDateUTC": 1626962905591,
            "modifiedDateUTC": 1626962905591,
            "replies": []
          }
        ],
        "ms_comment_ranges": {
          "8bad0457-3cdc-46e4-a9ca-59ae19406a74": {
            "text": "Cell 3\n------------------------",
            "start": {
              "line": 2,
              "column": 1
            },
            "end": {
              "line": 3,
              "column": 25
            }
          },
          "1834b555-809a-4952-ac93-47c08ccc4b52": {
            "text": "ine8",
            "start": {
              "line": 6,
              "column": 2
            },
            "end": {
              "line": 6,
              "column": 6
            }
          }
        }
      }
    },
    {
      "cell_type": "code",
      "source": [
        "------------------------\r\n",
        "Cell 4\r\n",
        "------------------------\r\n",
        "\r\n",
        "Line10\r\n",
        "Line11\r\n",
        "Line12\r\n",
        "\r\n",
        "------------------------\r\n",
        "Cell 4\r\n",
        "------------------------"
      ],
      "outputs": [],
      "execution_count": null,
      "metadata": {
        "collapsed": true,
        "jupyter": {
          "source_hidden": false,
          "outputs_hidden": false
        },
        "nteract": {
          "transient": {
            "deleting": false
          }
        }
      }
    },
    {
      "cell_type": "code",
      "source": [
        "------------------------\r\n",
        "Cell 5\r\n",
        "------------------------\r\n",
        "\r\n",
        "Line13\r\n",
        "Line14\r\n",
        "Line15\r\n",
        "\r\n",
        "------------------------\r\n",
        "Cell 5\r\n",
        "------------------------"
      ],
      "outputs": [],
      "execution_count": null,
      "metadata": {
        "collapsed": true,
        "jupyter": {
          "source_hidden": false,
          "outputs_hidden": false
        },
        "nteract": {
          "transient": {
            "deleting": false
          }
        },
        "ms_comments": [
          {
            "threadId": "27c3bda7-d3f4-4cc2-a0f9-cba6d95eff46",
            "text": "comment G",
            "status": "active",
            "user": {
              "name": "John Swanke"
            },
            "createdDateUTC": 1626962992608,
            "modifiedDateUTC": 1626962992608,
            "replies": []
          },
          {
            "threadId": "b30344f6-74ad-4078-a022-99ba2bbeae82",
            "text": "comment F",
            "status": "active",
            "user": {
              "name": "John Swanke"
            },
            "createdDateUTC": 1626962918433,
            "modifiedDateUTC": 1626962918433,
            "replies": []
          },
          {
            "threadId": "85f6ca58-6400-4548-8b29-410db7b3e73f",
            "text": "comment F",
            "status": "active",
            "user": {
              "name": "John Swanke"
            },
            "createdDateUTC": 1626963002564,
            "modifiedDateUTC": 1626963002564,
            "replies": []
          }
        ],
        "ms_comment_ranges": {
          "b30344f6-74ad-4078-a022-99ba2bbeae82": {
            "text": "Line13\nLine14\nLine15",
            "start": {
              "line": 5,
              "column": 1
            },
            "end": {
              "line": 7,
              "column": 7
            }
          },
          "27c3bda7-d3f4-4cc2-a0f9-cba6d95eff46": {
            "text": "5\n------------------------",
            "start": {
              "line": 2,
              "column": 6
            },
            "end": {
              "line": 3,
              "column": 25
            }
          },
          "85f6ca58-6400-4548-8b29-410db7b3e73f": {
            "text": "\n------------------------",
            "start": {
              "line": 10,
              "column": 7
            },
            "end": {
              "line": 11,
              "column": 25
            }
          }
        }
      }
    },
    {
      "cell_type": "markdown",
      "source": [
        "# Split Cell Demo"
      ],
      "metadata": {
        "nteract": {
          "transient": {
            "deleting": false
          }
        },
        "ms_comment_ranges": {}
      }
    },
    {
      "cell_type": "code",
      "source": [
        "Splitting a single line using Cell Toolbar"
      ],
      "outputs": [],
      "execution_count": null,
      "metadata": {
        "collapsed": true,
        "jupyter": {
          "source_hidden": false,
          "outputs_hidden": false
        },
        "nteract": {
          "transient": {
            "deleting": false
          }
        }
      }
    },
    {
      "cell_type": "code",
      "source": [
        "Splitting a cell with 2 separate lines\r\n",
        "using a shortcut (alt+meta+-)"
      ],
      "outputs": [],
      "execution_count": null,
      "metadata": {
        "collapsed": true,
        "jupyter": {
          "source_hidden": false,
          "outputs_hidden": false
        },
        "nteract": {
          "transient": {
            "deleting": false
          }
        }
      }
    },
    {
      "cell_type": "code",
      "source": [
        "Splitting 2 Separate lines\r\n",
        "\r\n",
        "\r\n",
        "\r\n",
        "\r\n",
        "\r\n",
        "(but with a lot of white space in between))"
      ],
      "outputs": [],
      "execution_count": null,
      "metadata": {
        "collapsed": true,
        "jupyter": {
          "source_hidden": false,
          "outputs_hidden": false
        },
        "nteract": {
          "transient": {
            "deleting": false
          }
        }
      }
    },
    {
      "cell_type": "code",
      "source": [
        "Splitting a cell\r\n",
        "with comments on\r\n",
        "multiple lines"
      ],
      "outputs": [],
      "execution_count": null,
      "metadata": {
        "collapsed": true,
        "jupyter": {
          "source_hidden": false,
          "outputs_hidden": false
        },
        "nteract": {
          "transient": {
            "deleting": false
          }
        },
        "ms_comments": [
          {
            "threadId": "37915422-2f13-488b-9602-016cb71e2dd1",
            "text": "comment1",
            "status": "active",
            "user": {
              "name": "Tannar Johnson"
            },
            "createdDateUTC": 1626947344139,
            "modifiedDateUTC": 1626947344139,
            "replies": []
          },
          {
            "threadId": "145cd32f-614b-4435-8240-3d6b0bccf179",
            "text": "comment2",
            "status": "active",
            "user": {
              "name": "Tannar Johnson"
            },
            "createdDateUTC": 1626947425695,
            "modifiedDateUTC": 1626947425695,
            "replies": []
          },
          {
            "threadId": "fdc64e37-9dda-44cf-9894-5a3a4f74b9f2",
            "text": "comment3",
            "status": "active",
            "user": {
              "name": "Tannar Johnson"
            },
            "createdDateUTC": 1626947408819,
            "modifiedDateUTC": 1626947408819,
            "replies": []
          }
        ],
        "ms_comment_ranges": {
          "37915422-2f13-488b-9602-016cb71e2dd1": {
            "text": "Splitting",
            "start": {
              "line": 1,
              "column": 1
            },
            "end": {
              "line": 1,
              "column": 10
            }
          },
          "fdc64e37-9dda-44cf-9894-5a3a4f74b9f2": {
            "text": "multiple",
            "start": {
              "line": 3,
              "column": 1
            },
            "end": {
              "line": 3,
              "column": 9
            }
          },
          "145cd32f-614b-4435-8240-3d6b0bccf179": {
            "text": "comments",
            "start": {
              "line": 2,
              "column": 6
            },
            "end": {
              "line": 2,
              "column": 14
            }
          }
        }
      }
    }
  ],
  "metadata": {
    "nteract": {
      "version": "nteract-front-end@1.0.0"
    },
    "language_info": {
      "name": "python",
      "version": "3.7.3",
      "mimetype": "text/x-python",
      "codemirror_mode": {
        "name": "ipython",
        "version": 3
      },
      "pygments_lexer": "ipython3",
      "nbconvert_exporter": "python",
      "file_extension": ".py"
    },
    "kernelspec": {
      "name": "python3",
      "language": "python",
      "display_name": "Python 3"
    },
    "kernel_info": {
      "name": "python3"
    }
  },
  "nbformat": 4,
  "nbformat_minor": 0
}