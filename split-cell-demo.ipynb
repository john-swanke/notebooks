{
  "cells": [
    {
      "cell_type": "markdown",
      "source": [
        "# Split Cell Demo"
      ],
      "metadata": {
        "nteract": {
          "transient": {
            "deleting": false
          }
        },
        "ms_comment_ranges": {}
      }
    },
    {
      "cell_type": "code",
      "source": [
        "Splitting a single line using Cell Toolbar"
      ],
      "outputs": [],
      "execution_count": null,
      "metadata": {
        "collapsed": true,
        "jupyter": {
          "source_hidden": false,
          "outputs_hidden": false
        },
        "nteract": {
          "transient": {
            "deleting": false
          }
        }
      }
    },
    {
      "cell_type": "code",
      "source": [
        "Splitting a cell with 2 separate lines\r\n",
        "using a shortcut (alt+meta+-)"
      ],
      "outputs": [],
      "execution_count": null,
      "metadata": {
        "collapsed": true,
        "jupyter": {
          "source_hidden": false,
          "outputs_hidden": false
        },
        "nteract": {
          "transient": {
            "deleting": false
          }
        }
      }
    },
    {
      "cell_type": "code",
      "source": [
        "Splitting 2 Separate lines\r\n",
        "\r\n",
        "\r\n",
        "\r\n",
        "\r\n",
        "\r\n",
        "(but with a lot of white space in between))"
      ],
      "outputs": [],
      "execution_count": null,
      "metadata": {
        "collapsed": true,
        "jupyter": {
          "source_hidden": false,
          "outputs_hidden": false
        },
        "nteract": {
          "transient": {
            "deleting": false
          }
        }
      }
    },
    {
      "cell_type": "code",
      "source": [
        "Splitting a cell\r\n",
        "with comments on\r\n",
        "multiple lines"
      ],
      "outputs": [],
      "execution_count": null,
      "metadata": {
        "collapsed": true,
        "jupyter": {
          "source_hidden": false,
          "outputs_hidden": false
        },
        "nteract": {
          "transient": {
            "deleting": false
          }
        },
        "ms_comments": [
          {
            "threadId": "37915422-2f13-488b-9602-016cb71e2dd1",
            "text": "comment1",
            "status": "active",
            "user": {
              "name": "Tannar Johnson"
            },
            "createdDateUTC": 1626947344139,
            "modifiedDateUTC": 1626947344139,
            "replies": []
          },
          {
            "threadId": "145cd32f-614b-4435-8240-3d6b0bccf179",
            "text": "comment2",
            "status": "active",
            "user": {
              "name": "Tannar Johnson"
            },
            "createdDateUTC": 1626947425695,
            "modifiedDateUTC": 1626947425695,
            "replies": []
          },
          {
            "threadId": "fdc64e37-9dda-44cf-9894-5a3a4f74b9f2",
            "text": "comment3",
            "status": "active",
            "user": {
              "name": "Tannar Johnson"
            },
            "createdDateUTC": 1626947408819,
            "modifiedDateUTC": 1626947408819,
            "replies": []
          }
        ],
        "ms_comment_ranges": {
          "37915422-2f13-488b-9602-016cb71e2dd1": {
            "text": "Splitting",
            "start": {
              "line": 1,
              "column": 1
            },
            "end": {
              "line": 1,
              "column": 10
            }
          },
          "fdc64e37-9dda-44cf-9894-5a3a4f74b9f2": {
            "text": "multiple",
            "start": {
              "line": 3,
              "column": 1
            },
            "end": {
              "line": 3,
              "column": 9
            }
          },
          "145cd32f-614b-4435-8240-3d6b0bccf179": {
            "text": "comments",
            "start": {
              "line": 2,
              "column": 6
            },
            "end": {
              "line": 2,
              "column": 14
            }
          }
        }
      }
    }
  ],
  "metadata": {
    "nteract": {
      "version": "nteract-front-end@1.0.0"
    },
    "language_info": {
      "name": "python",
      "version": "3.7.3",
      "mimetype": "text/x-python",
      "codemirror_mode": {
        "name": "ipython",
        "version": 3
      },
      "pygments_lexer": "ipython3",
      "nbconvert_exporter": "python",
      "file_extension": ".py"
    },
    "kernelspec": {
      "name": "python3",
      "language": "python",
      "display_name": "Python 3"
    },
    "kernel_info": {
      "name": "python3"
    }
  },
  "nbformat": 4,
  "nbformat_minor": 0
}